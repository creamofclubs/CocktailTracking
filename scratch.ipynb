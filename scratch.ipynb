{
 "metadata": {
  "language_info": {
   "codemirror_mode": {
    "name": "ipython",
    "version": 3
   },
   "file_extension": ".py",
   "mimetype": "text/x-python",
   "name": "python",
   "nbconvert_exporter": "python",
   "pygments_lexer": "ipython3",
   "version": "3.9.1-final"
  },
  "orig_nbformat": 2,
  "kernelspec": {
   "name": "python3",
   "display_name": "Python 3",
   "language": "python"
  }
 },
 "nbformat": 4,
 "nbformat_minor": 2,
 "cells": [
  {
   "cell_type": "code",
   "execution_count": 2,
   "metadata": {},
   "outputs": [],
   "source": [
    "import requests as r\n",
    "from bs4 import BeautifulSoup as bs"
   ]
  },
  {
   "cell_type": "code",
   "execution_count": null,
   "metadata": {},
   "outputs": [],
   "source": [
    "source"
   ]
  },
  {
   "cell_type": "code",
   "execution_count": null,
   "metadata": {},
   "outputs": [
    {
     "output_type": "error",
     "ename": "Error",
     "evalue": "Direct kernel connection broken",
     "traceback": [
      "Error: Direct kernel connection broken",
      "at w.getDisposedError (c:\\Users\\Jason\\.vscode\\extensions\\ms-toolsai.jupyter-2021.2.603412351\\out\\client\\extension.js:32:714811)",
      "at f.P.handleCodeRequest (c:\\Users\\Jason\\.vscode\\extensions\\ms-toolsai.jupyter-2021.2.603412351\\out\\client\\extension.js:49:527996)",
      "at c:\\Users\\Jason\\.vscode\\extensions\\ms-toolsai.jupyter-2021.2.603412351\\out\\client\\extension.js:49:541259"
     ]
    }
   ],
   "source": [
    "url = \"https://www.thedrinkshop.com/offers\"\n",
    "source =  r.get(url)\n"
   ]
  },
  {
   "cell_type": "code",
   "execution_count": null,
   "metadata": {},
   "outputs": [],
   "source": []
  },
  {
   "cell_type": "code",
   "execution_count": null,
   "metadata": {},
   "outputs": [],
   "source": []
  }
 ]
}